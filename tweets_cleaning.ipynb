{
 "cells": [
  {
   "cell_type": "code",
   "execution_count": 2,
   "metadata": {},
   "outputs": [],
   "source": [
    "import pandas as pd\n",
    "import re\n",
    "import nltk\n",
    "\n",
    "# Read the CSV file\n",
    "tweet_df = pd.read_csv('C:/Users/Admin/Documents/Neha Data VS Code/Twitter New/Twittter_Data_Collection_Result.csv')\n",
    "\n",
    "# Define the regular expressions to remove mentions and links\n",
    "mention_regex = r'@[A-Za-z0-9_]+'\n",
    "link_regex = r'http\\S+'\n",
    "\n",
    "# Define the list of English words\n",
    "words = set(nltk.corpus.words.words())\n",
    "\n",
    "# Process each tweet in the DataFrame\n",
    "for i, tweet in enumerate(tweet_df['tweet']):\n",
    "    # Remove mentions and links from the tweet\n",
    "    tweet = re.sub(mention_regex, '', tweet)\n",
    "    tweet = re.sub(link_regex, '', tweet)\n",
    "    \n",
    "    # Remove extra whitespace\n",
    "    tweet = \" \".join(tweet.split())\n",
    "    \n",
    "    # Remove hashtag sign but keep the text\n",
    "    tweet = tweet.replace(\"#\", \"\").replace(\"_\", \" \")\n",
    "    \n",
    "    # Remove non-English tweets\n",
    "    tweet = \" \".join(w for w in nltk.wordpunct_tokenize(tweet) if w.lower() in words or not w.isalpha())\n",
    "    \n",
    "    # Update the tweet in the DataFrame\n",
    "    tweet_df.loc[i, 'tweet'] = tweet\n",
    "\n",
    "# Save the updated DataFrame to a new CSV file\n",
    "tweet_df.to_csv('new_Twitter_data.csv', index=False)"
   ]
  }
 ],
 "metadata": {
  "kernelspec": {
   "display_name": "Python 3",
   "language": "python",
   "name": "python3"
  },
  "language_info": {
   "codemirror_mode": {
    "name": "ipython",
    "version": 3
   },
   "file_extension": ".py",
   "mimetype": "text/x-python",
   "name": "python",
   "nbconvert_exporter": "python",
   "pygments_lexer": "ipython3",
   "version": "3.9.11"
  },
  "orig_nbformat": 4,
  "vscode": {
   "interpreter": {
    "hash": "0d591c6e422414675974e227c13f5382000c440fedd3c5006ef2be5d887f0ba7"
   }
  }
 },
 "nbformat": 4,
 "nbformat_minor": 2
}
